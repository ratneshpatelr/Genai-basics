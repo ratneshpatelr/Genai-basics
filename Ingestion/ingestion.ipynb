{
 "cells": [
  {
   "cell_type": "markdown",
   "metadata": {},
   "source": [
    "# Data Ingestion process"
   ]
  },
  {
   "cell_type": "code",
   "execution_count": 6,
   "metadata": {},
   "outputs": [
    {
     "name": "stdout",
     "output_type": "stream",
     "text": [
      "[Document(metadata={'source': '../hello.txt'}, page_content='Backend development refers to the server-side of a web application and involves managing the database, server, and application logic. It is responsible for processing user requests, interacting with the database, and ensuring that the front-end receives the necessary data to display to the user. Backend developers use programming languages such as Python, Java, Ruby, and PHP, along with frameworks like Django, Spring, and Ruby on Rails, to build robust and scalable applications. They also handle security, authentication, and authorization, ensuring that the application is secure and performs efficiently. Effective backend development is crucial for the overall functionality and performance of a web application.')]\n"
     ]
    }
   ],
   "source": [
    "from langchain_community.document_loaders import TextLoader\n",
    "loader = TextLoader(\"../hello.txt\")\n",
    "text_loader = loader.load()\n",
    "print(text_loader)"
   ]
  },
  {
   "cell_type": "code",
   "execution_count": 12,
   "metadata": {},
   "outputs": [
    {
     "name": "stdout",
     "output_type": "stream",
     "text": [
      "[Document(metadata={'source': '../node.pdf', 'page': 0}, page_content=' \\n \\n \\nNode JS Course Syllabus  \\n \\nChapter 1 : INTRODUCTION TO NODE WORLD  \\n\\uf0d8 Introduction to Javascript event driven programming  \\n\\uf0d8 Introduction to Node event -driven programming  \\nChapter 2 : MAKING A WEB SERVER  \\n\\uf0d8 Webserver basis  \\n\\uf0d8 Handling incoming request in Node JS  \\n\\uf0d8 Serving static files / pages  \\n\\uf0d8 Content caching  \\n\\uf0d8 Streaming and optimization  \\n\\uf0d8 Handling file system  \\nChapter 3 : Rest API && HTTP OBJECT  \\n\\uf0d8 Rest API benefits  \\n\\uf0d8 Introduction to HTTP Object  \\n\\uf0d8 Processing POST Data  \\n\\uf0d8 Handling File uploads  \\n\\uf0d8 Using Node as HTTP Client  \\n\\uf0d8 Implementing download Throttling  \\n\\uf0d8 Node JS way of calling another server  \\nChapter 4 : WORKING WITH DATA SERIALIZATION  \\n\\uf0d8 JSON to Object & Object to JSON  \\n\\uf0d8 XML to Object and Object to XML  \\nChapter 5 : WORKING WITH D ATABASES  (Prefered MONGODB over MYSQL)  \\n\\uf0d8 Writing to a CSV File in Database  \\n\\uf0d8 CRUD using MONGODB  '), Document(metadata={'source': '../node.pdf', 'page': 1}, page_content=' \\n \\n \\nChapter 6 : WEB DEVELOPMENT WITH EXPRESS  \\n\\uf0d8 Express scaffolding  \\n\\uf0d8 Defining and applying environments  \\n\\uf0d8 Dynamic routing  \\n\\uf0d8 Templating IN Express  \\n\\uf0d8 CSS engines with Express  \\n\\uf0d8 How t o use JWT benefit  of using JWT over Sessions  \\n\\uf0d8 Demo of making an Express web application  \\n\\uf0d8 File System Security issues and measures  \\nChapter 7 : ALL ABOUT SECURITY  \\n\\uf0d8 Basic Authentication methods  \\n\\uf0d8 Passwork cryptography  \\n\\uf0d8 Setting up HTTPS  \\n\\uf0d8 How to safegaurd  your site from cross -site forgeries  \\nChapter 8 : ADVANCED NODE  CONCEPTS  \\n\\uf0d8 Sending Emails  \\n\\uf0d8 Sending SMSs  \\n\\uf0d8 What is a web socket? Communication using sockets!  \\n\\uf0d8 Creating your own SMTP server  \\n\\uf0d8 Creating Command line app using Node  \\n\\uf0d8 Threads (or ) worker in Node JS  \\n\\uf0d8 Making c ron jobs in Node JS  \\n\\uf0d8 Node as proxy server    \\nChapter 9 : WRITING CUSTOMIZED NODE MODULES  \\n\\uf0d8 Writing a functional mdoule  \\n\\uf0d8 Extending the module’s API  \\n\\uf0d8 Deploying a module to npm  \\n '), Document(metadata={'source': '../node.pdf', 'page': 2}, page_content=' \\n \\n \\n \\nChapter 10 : GETTING IT TO PRODUCTION  \\n\\uf0d8 How to set up production server environment  \\n\\uf0d8 How to set up auto crash recovery  \\n \\n \\n ')]\n"
     ]
    }
   ],
   "source": [
    "from langchain_community.document_loaders import PyPDFLoader\n",
    "loader = PyPDFLoader(\"../node.pdf\")\n",
    "docs = loader.load()\n",
    "print(docs)"
   ]
  },
  {
   "cell_type": "code",
   "execution_count": 15,
   "metadata": {},
   "outputs": [
    {
     "name": "stdout",
     "output_type": "stream",
     "text": [
      "[Document(metadata={'source': 'https://www.ypiyush.tech/', 'title': 'Home | Piyush Yadav', 'description': 'Piyush Yadav is a full-stack developer in India. He is creative and passionate about design and technology so he always try to craft great-looking software products.', 'language': 'en-US'}, page_content='Home | Piyush YadavAboutGuestbookProjectsBlogContactSkip to main contentPiyush YadavStudent • Full-stack DeveloperI am a student and a Passionate and creative Full Stack developer based in India  🇮🇳SkillsNextJSReact NativeGolangJavascriptTypescriptHTML5CSS3TailwindCSSNodeJSMongoDBExpressJavaGraphQLGitPostgreSQLPrismaZustand/ RTKLinuxDockerTRPCFastAPIMySQLAzureJestRedisWork ExperienceCodemateSoftware Engineer - Full Stack Engineer - Oct 2023 - PresentLed the design and development of full-stack services for the Tech Innovation Group, enhancing system functionality and reliability using Next.js, Node.js, Langchain, Flask, Azure and Redis.Designed and implemented user-friendly dashboards, integrating front-end interfaces with Generative AI models and ensuring seamless back-end functionality, driving substantial user engagement and satisfaction.Collaborated with cross-functional teams to gather system requirements, balance workloads, and oversee the end-to-end software development lifecycle from implementation to deployment.Established robust CI/CD pipelines, conducted pull requests, and performed code reviews, ensuring high standards of code quality, scalability, and maintainability through rigorous testing (unit, integration, and end-to-end testing).One OathFull Stack Developer Intern - June 2023 - Oct 2023Spearheaded the development of microservices using Node.js, Python, Open AI for the client’s personality development system.Developed a CI/CD workflow to automatically perform a set of actions daily on a product in development in order to decrease time needed for team members to identify and fix bugs/issues.Collaborated closely with the AI core team to strategically integrate Python backend components, ensuring the seamless operation of critical system functions.AAA Intergalactic – InfrastructureWeb Developer Intern - March 2023 - June 2023Orchestrated the creation of static websites for clients, accompanied by the development of microservices for seamless website operationPlayed a pivotal role in shaping architecture plans, UI designs, and feature development, contributing to a 15% increase in project success rateDrove the development of static websites and streamlined microservices, leading to a remarkable 20% decrease in project timelinesLoading ...HomeAboutBlogContactGuestbookGoalsProjectsExperienceLinkedInInstagramGitHubMedium© 2024 PiyushYour info')]\n"
     ]
    }
   ],
   "source": [
    "from langchain_community.document_loaders import WebBaseLoader\n",
    "loader = WebBaseLoader(\"https://www.ypiyush.tech/\")\n",
    "docs = loader.load()\n",
    "print(docs)"
   ]
  },
  {
   "cell_type": "code",
   "execution_count": 16,
   "metadata": {},
   "outputs": [
    {
     "name": "stdout",
     "output_type": "stream",
     "text": [
      "[Document(metadata={'source': 'https://www.ypiyush.tech/'}, page_content='AboutGuestbookProjectsBlogContactLed the design and development of full-stack services for the Tech Innovation Group, enhancing system functionality and reliability using Next.js, Node.js, Langchain, Flask, Azure and Redis.Designed and implemented user-friendly dashboards, integrating front-end interfaces with Generative AI models and ensuring seamless back-end functionality, driving substantial user engagement and satisfaction.Collaborated with cross-functional teams to gather system requirements, balance workloads, and oversee the end-to-end software development lifecycle from implementation to deployment.Established robust CI/CD pipelines, conducted pull requests, and performed code reviews, ensuring high standards of code quality, scalability, and maintainability through rigorous testing (unit, integration, and end-to-end testing).Spearheaded the development of microservices using Node.js, Python, Open AI for the client’s personality development system.Developed a CI/CD workflow to automatically perform a set of actions daily on a product in development in order to decrease time needed for team members to identify and fix bugs/issues.Collaborated closely with the AI core team to strategically integrate Python backend components, ensuring the seamless operation of critical system functions.Orchestrated the creation of static websites for clients, accompanied by the development of microservices for seamless website operationPlayed a pivotal role in shaping architecture plans, UI designs, and feature development, contributing to a 15% increase in project success rateDrove the development of static websites and streamlined microservices, leading to a remarkable 20% decrease in project timelines')]\n"
     ]
    }
   ],
   "source": [
    "from langchain_community.document_loaders import WebBaseLoader\n",
    "import bs4\n",
    "loader = WebBaseLoader(\"https://www.ypiyush.tech/\", bs_kwargs=dict(parse_only=bs4.SoupStrainer(\"li\")))\n",
    "docs = loader.load()\n",
    "print(docs)"
   ]
  },
  {
   "cell_type": "code",
   "execution_count": 18,
   "metadata": {},
   "outputs": [
    {
     "name": "stdout",
     "output_type": "stream",
     "text": [
      "[Document(metadata={'title': 'India', 'summary': \"India, officially the Republic of India (ISO: Bhārat Gaṇarājya), is a country in South Asia.  It is the seventh-largest country by area; the most populous country from June 2023 and from the time of its independence in 1947, the world's most populous democracy. Bounded by the Indian Ocean on the south, the Arabian Sea on the southwest, and the Bay of Bengal on the southeast, it shares land borders with Pakistan to the west; China, Nepal, and Bhutan to the north; and Bangladesh and Myanmar to the east. In the Indian Ocean, India is in the vicinity of Sri Lanka and the Maldives; its Andaman and Nicobar Islands share a maritime border with Thailand, Myanmar, and Indonesia.\\nModern humans arrived on the Indian subcontinent from Africa no later than 55,000 years ago.\\nTheir long occupation, initially in varying forms of isolation as hunter-gatherers, has made the region highly diverse, second only to Africa in human genetic diversity. Settled life emerged on the subcontinent in the western margins of the Indus river basin 9,000 years ago, evolving gradually into the Indus Valley Civilisation of the third millennium BCE.\\nBy 1200 BCE, an archaic form of Sanskrit, an Indo-European language, had diffused into India from the northwest. Its evidence today is found in the hymns of the Rigveda. Preserved by an oral tradition that was resolutely vigilant, the Rigveda records the dawning of Hinduism in India. The Dravidian languages of India were supplanted in the northern and western regions. By 400 BCE, stratification and exclusion by caste had emerged within Hinduism, and Buddhism and Jainism had arisen, proclaiming social orders unlinked to heredity.\\nEarly political consolidations gave rise to the loose-knit Maurya and Gupta Empires based in the Ganges Basin.\\nTheir collective era was suffused with wide-ranging creativity, but also marked by the declining status of women, and the incorporation of untouchability into an organised system of belief. In South India, the Middle kingdoms exported Dravidian-languages scripts and religious cultures to the kingdoms of Southeast Asia.\\nIn the early medieval era, Christianity, Islam, Judaism, and Zoroastrianism became established on India's southern and western coasts.\\nMuslim armies from Central Asia intermittently overran India's northern plains,\\neventually founding the Delhi Sultanate, and drawing northern India into the cosmopolitan networks of medieval Islam.\\nIn the 15th century, the Vijayanagara Empire created a long-lasting composite Hindu culture in south India.\\nIn the Punjab, Sikhism emerged, rejecting institutionalised religion.\\nThe Mughal Empire, in 1526, ushered in two centuries of relative peace,\\nleaving a legacy of luminous architecture.\\nGradually expanding rule of the British East India Company followed, turning India into a colonial economy, but also consolidating its sovereignty. British Crown rule began in 1858. The rights promised to Indians were granted slowly, but technological changes were introduced, and modern ideas of education and the public life took root. A pioneering and influential nationalist movement emerged, which was noted for nonviolent resistance and became the major factor in ending British rule. In 1947 the British Indian Empire was partitioned into two independent dominions, a Hindu-majority Dominion of India and a Muslim-majority Dominion of Pakistan, amid large-scale loss of life and an unprecedented migration.\\nIndia has been a federal republic since 1950, governed through a democratic parliamentary system. It is a pluralistic, multilingual and multi-ethnic society. India's population grew from 361 million in 1951 to almost 1.4 billion in 2022.\\nDuring the same time, its nominal per capita income increased from US$64 annually to US$2,601, and its literacy rate from 16.6% to 74%. From being a comparatively destitute country in 1951, India has become a fast-growing major economy and a hub for information technology services, with an expanding middle class. India has a space programme with several planned or completed extraterrestrial missions. Indian movies, music, and spiritual teachings play an increasing role in global culture. India has substantially reduced its rate of poverty, though at the cost of increasing economic inequality. India is a nuclear-weapon state, which ranks high in military expenditure. It has disputes over Kashmir with its neighbours, Pakistan and China, unresolved since the mid-20th century. Among the socio-economic challenges India faces are gender inequality, child malnutrition, and rising levels of air pollution. India's land is megadiverse, with four biodiversity hotspots. Its forest cover comprises 21.7% of its area. India's wildlife, which has traditionally been viewed with tolerance in India's culture, is supported among these forests, and elsewhere, in protected habitats.\", 'source': 'https://en.wikipedia.org/wiki/India'}, page_content=\"India, officially the Republic of India (ISO: Bhārat Gaṇarājya), is a country in South Asia.  It is the seventh-largest country by area; the most populous country from June 2023 and from the time of its independence in 1947, the world's most populous democracy. Bounded by the Indian Ocean on the south, the Arabian Sea on the southwest, and the Bay of Bengal on the southeast, it shares land borders with Pakistan to the west; China, Nepal, and Bhutan to the north; and Bangladesh and Myanmar to the east. In the Indian Ocean, India is in the vicinity of Sri Lanka and the Maldives; its Andaman and Nicobar Islands share a maritime border with Thailand, Myanmar, and Indonesia.\\nModern humans arrived on the Indian subcontinent from Africa no later than 55,000 years ago.\\nTheir long occupation, initially in varying forms of isolation as hunter-gatherers, has made the region highly diverse, second only to Africa in human genetic diversity. Settled life emerged on the subcontinent in the western margins of the Indus river basin 9,000 years ago, evolving gradually into the Indus Valley Civilisation of the third millennium BCE.\\nBy 1200 BCE, an archaic form of Sanskrit, an Indo-European language, had diffused into India from the northwest. Its evidence today is found in the hymns of the Rigveda. Preserved by an oral tradition that was resolutely vigilant, the Rigveda records the dawning of Hinduism in India. The Dravidian languages of India were supplanted in the northern and western regions. By 400 BCE, stratification and exclusion by caste had emerged within Hinduism, and Buddhism and Jainism had arisen, proclaiming social orders unlinked to heredity.\\nEarly political consolidations gave rise to the loose-knit Maurya and Gupta Empires based in the Ganges Basin.\\nTheir collective era was suffused with wide-ranging creativity, but also marked by the declining status of women, and the incorporation of untouchability into an organised system of belief. In South India, the Middle kingdoms exported Dravidian-languages scripts and religious cultures to the kingdoms of Southeast Asia.\\nIn the early medieval era, Christianity, Islam, Judaism, and Zoroastrianism became established on India's southern and western coasts.\\nMuslim armies from Central Asia intermittently overran India's northern plains,\\neventually founding the Delhi Sultanate, and drawing northern India into the cosmopolitan networks of medieval Islam.\\nIn the 15th century, the Vijayanagara Empire created a long-lasting composite Hindu culture in south India.\\nIn the Punjab, Sikhism emerged, rejecting institutionalised religion.\\nThe Mughal Empire, in 1526, ushered in two centuries of relative peace,\\nleaving a legacy of luminous architecture.\\nGradually expanding rule of the British East India Company followed, turning India into a colonial economy, but also consolidating its sovereignty. British Crown rule began in 1858. The rights promised to Indians were granted slowly, but technological changes were introduced, and modern ideas of education and the public life took root. A pioneering and influential nationalist movement emerged, which was noted for nonviolent resistance and became the major factor in ending British rule. In 1947 the British Indian Empire was partitioned into two independent dominions, a Hindu-majority Dominion of India and a Muslim-majority Dominion of Pakistan, amid large-scale loss of life and an unprecedented migration.\\nIndia has been a federal republic since 1950, governed through a democratic parliamentary system. It is a pluralistic, multilingual and multi-ethnic society. India's population grew from 361 million in 1951 to almost 1.4 billion in 2022.\\nDuring the same time, its nominal per capita income increased from US$64 annually to US$2,601, and its literacy rate from 16.6% to 74%. From being a comparatively destitute country in 1951, India has become a fast-growing major economy and a hub for information technology services, with an expanding middle class. India has\"), Document(metadata={'title': 'Indian National Developmental Inclusive Alliance', 'summary': \"The Indian National Developmental Inclusive Alliance (I.N.D.I.A.) is a big tent multi party political alliance of several political parties in India led by the country's largest opposition party, the Indian National Congress. The alliance is in opposition to the ruling National Democratic Alliance (NDA) government led by the Bharatiya Janata Party (BJP) in the 2024 Indian general elections. In the 2024 general election, the alliance won 234 seats, gaining more than 100 seats from dissolution, and the majority of seats in states like Uttar Pradesh, Maharashtra, and West Bengal. The BJP lost its sole majority, with the alliance forcing Modi to govern with his coalition, the NDA.\", 'source': 'https://en.wikipedia.org/wiki/Indian_National_Developmental_Inclusive_Alliance'}, page_content='The Indian National Developmental Inclusive Alliance (I.N.D.I.A.) is a big tent multi party political alliance of several political parties in India led by the country\\'s largest opposition party, the Indian National Congress. The alliance is in opposition to the ruling National Democratic Alliance (NDA) government led by the Bharatiya Janata Party (BJP) in the 2024 Indian general elections. In the 2024 general election, the alliance won 234 seats, gaining more than 100 seats from dissolution, and the majority of seats in states like Uttar Pradesh, Maharashtra, and West Bengal. The BJP lost its sole majority, with the alliance forcing Modi to govern with his coalition, the NDA.\\n\\n\\n== Etymology ==\\nThe Indian National Developmental Inclusive Alliance, commonly known by its backronym I.N.D.I.A. is an opposition front announced by the leaders of 28 parties to contest the 2024 Lok Sabha elections. The name was proposed during a meeting in Bengaluru and was unanimously adopted by the 28 participating parties. While some sources attribute the suggestion of the name to Rahul Gandhi, the leader of the Indian National Congress (INC), others mention that it was suggested by Mamata Banerjee, the Trinamool Congress (TMC) supremo and chief minister of West Bengal.\\n\\n\\n== History ==\\nOn September 25, 2022, Indian National Lok Dal (INLD) supremo Om Prakash Chautala hosted a rally in Fatehabad on the occasion of Former Deputy Prime Minister Devi Lal\\'s birth anniversary. During this rally, the ideas of a national alliance were first openly called on stage. Chief Minister of Bihar Nitish Kumar had said \"I\\'ll urge all parties, including Congress, to get together and then they (BJP) will lost badly\". JD(U) spokesperson K. C. Tyagi had also stated that the foundation of the alliance was during this same rally.\\nThe first major Opposition parties\\' meeting, held in Patna, Bihar, was chaired by Nitish Kumar on 23 June 2023, when the proposal for a new alliance was put on the table. The meeting was attended by 16 Opposition parties. INLD was not included in this meeting.\\nThe second meeting, was held in Bengaluru, Karnataka on 17–18 July. It was chaired by UPA Chairperson Sonia Gandhi when the proposal for an alliance was accepted and ten more parties were added to the list. The alliance\\'s name was finalized and given the name Indian National Developmental Inclusive Alliance.\\nThe third meeting was held in Mumbai, Maharashtra from 31 August to 1 September. The meeting was hosted by Shiv Sena (UBT) President Uddhav Thackeray and saw Sonia Gandhi, Rahul Gandhi, and chief ministers of 5 states in attendance. Over the two-day deliberations, the alliance discussed major electoral issues for the upcoming general elections, carved out the coordination committee, and passed a three-point resolution to fight 2024 Indian general elections together \\'as far as possible\\'.\\nThe fourth meeting was held in New Delhi on 19 December. The meeting was primarily held to discuss seat-sharing, joint rallies, and the prime ministerial face and/or convenor of the alliance. The alliance adopted a resolution to ensure maximum use of VVPATs in upcoming elections. \"To enhance confidence in elections, VVPAT slips should be directly given to voters to self-verify and place in a separate box, instead of them falling into the main box. Eventually, all VVPAT slips must be 100% counted, ensuring truly free and fair elections,\" read the resolution passed by the alliance at the meeting. Seat sharing was also to be done by either 31 December 2023 or mid-January 2024. It was also decided that protests will be held across the country on 22 December 2023 against the suspensions of opposition MPs in the Indian Parliament. Some leaders said that the alliance would hold a grand joint rally at Patna on 30 January 2024, the death anniversary of Mahatma Gandhi, although this was not officially announced.\\nThe alliance held its 5th meeting virtually with some leaders not attending. Following the meeting, the ')]\n"
     ]
    }
   ],
   "source": [
    "from langchain_community.document_loaders import WikipediaLoader\n",
    "loader = WikipediaLoader(query=\"India\", load_max_docs=2)\n",
    "docs = loader.load()\n",
    "print(docs)\n"
   ]
  }
 ],
 "metadata": {
  "kernelspec": {
   "display_name": "Python 3",
   "language": "python",
   "name": "python3"
  },
  "language_info": {
   "codemirror_mode": {
    "name": "ipython",
    "version": 3
   },
   "file_extension": ".py",
   "mimetype": "text/x-python",
   "name": "python",
   "nbconvert_exporter": "python",
   "pygments_lexer": "ipython3",
   "version": "3.10.14"
  }
 },
 "nbformat": 4,
 "nbformat_minor": 2
}
